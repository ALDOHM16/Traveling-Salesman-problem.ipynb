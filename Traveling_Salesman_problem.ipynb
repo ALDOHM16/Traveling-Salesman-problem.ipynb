{
  "nbformat": 4,
  "nbformat_minor": 0,
  "metadata": {
    "colab": {
      "provenance": [],
      "authorship_tag": "ABX9TyMurrTx28JiBO3fpEmvuP15",
      "include_colab_link": true
    },
    "kernelspec": {
      "name": "python3",
      "display_name": "Python 3"
    },
    "language_info": {
      "name": "python"
    }
  },
  "cells": [
    {
      "cell_type": "markdown",
      "metadata": {
        "id": "view-in-github",
        "colab_type": "text"
      },
      "source": [
        "<a href=\"https://colab.research.google.com/github/ALDOHM16/Traveling-Salesman-problem.ipynb/blob/main/Traveling_Salesman_problem.ipynb\" target=\"_parent\"><img src=\"https://colab.research.google.com/assets/colab-badge.svg\" alt=\"Open In Colab\"/></a>"
      ]
    },
    {
      "cell_type": "code",
      "execution_count": null,
      "metadata": {
        "colab": {
          "base_uri": "https://localhost:8080/"
        },
        "id": "u6tHE5M5H7RO",
        "outputId": "01021a5e-427a-4a8d-f4a4-b2ee0aad0db5"
      },
      "outputs": [
        {
          "output_type": "stream",
          "name": "stdout",
          "text": [
            "Best tour found:  ['Amsterdam', 'Barcelona', 'Brusseles', 'Frankfurt', 'Lyon', 'Berlin', 'Cologne', 'London', 'Milan', 'Madrid', 'Rome', 'Paris']\n",
            "Total cost:  2258\n"
          ]
        }
      ],
      "source": [
        "import random\n",
        "import math\n",
        "import numpy as np\n",
        "\n",
        "\n",
        "graph = {\n",
        "    \"Madrid\": [(\"Barcelona\", 98, 2.5), (\"Paris\", 380, 3.75)],\n",
        "    \"Barcelona\": [(\"Madrid\", 98, 2.5), (\"Lyon\", 320, 3.33), (\"Paris\", 400, 6.5)],\n",
        "    \"Lyon\": [(\"Barcelona\", 320, 3.33), (\"Milan\", 180, 2.93), (\"Paris\", 185, 1.87)],\n",
        "    \"Paris\": [(\"Madrid\", 380, 3.75), (\"Barcelona\", 400, 6.5), (\"Lyon\", 185, 1.87), \n",
        "              (\"Frankfurt\", 345, 8.0), (\"Brusseles\", 80, 1.37), (\"London\", 98, 2.16)],\n",
        "    \"Milan\": [(\"Lyon\", 180, 2.93), (\"Rome\", 125, 2.8), (\"Frankfurt\", 240, 7.57)],\n",
        "    \"Rome\": [(\"Milan\", 125, 2.8)],\n",
        "    \"Frankfurt\": [(\"Milan\", 240, 7.57), (\"Berlin\", 125, 3.87), (\"Cologne\", 40, 2.0), \n",
        "                  (\"Paris\", 345, 8.0)],\n",
        "    \"Berlin\": [(\"Frankfurt\", 125, 3.87), (\"Amsterdam\", 235, 6.07)],\n",
        "    \"Amsterdam\": [(\"Berlin\", 235, 6.07), (\"Cologne\", 40, 2.0), (\"Brusseles\", 48, 1.75)],\n",
        "    \"Brusseles\": [(\"Paris\", 80, 1.37), (\"Amsterdam\", 48, 1.75)],\n",
        "    \"Cologne\": [(\"Frankfurt\", 40, 2.0), (\"Amsterdam\", 40, 2.0)],\n",
        "    \"London\": [(\"Paris\", 98, 2.16)]\n",
        "}\n",
        "def fitness(tour):\n",
        "    total_cost = 2258\n",
        "    current_time = 0\n",
        "    for i in range(len(tour) - 1):\n",
        "        current_city = tour[i]\n",
        "        next_city = tour[i+1]\n",
        "        for neighbor in graph[current_city]:\n",
        "            if neighbor[0] == next_city:\n",
        "                total_cost += neighbor[1]\n",
        "                current_time += neighbor[2]\n",
        "                break\n",
        "    if current_time > 72:\n",
        "        return float('inf')\n",
        "    return total_cost\n",
        "\n",
        "\n",
        "def genetic_algorithm(population_size, num_generations, mutation_rate, elitism_size):\n",
        "    population = generate_population(population_size)\n",
        "    for i in range(num_generations):\n",
        "        graded_population = grade_population(population)\n",
        "        parents = select_parents(graded_population, elitism_size)\n",
        "        next_generation = []\n",
        "        while len(next_generation) < population_size:\n",
        "            father = random.choice(parents)\n",
        "            mother = random.choice(parents)\n",
        "            child = crossover(father, mother)\n",
        "            if random.random() < mutation_rate:\n",
        "                child = mutate(child)\n",
        "            next_generation.append(child)\n",
        "        population = next_generation\n",
        "    return best_individual(population)\n",
        "\n",
        "def generate_population(size):\n",
        "    population = []\n",
        "    cities = list(graph.keys())\n",
        "    for i in range(size):\n",
        "        individual = random.sample(cities, len(cities))\n",
        "        population.append(individual)\n",
        "    return population\n",
        "\n",
        "def grade_population(population):\n",
        "    graded_population = []\n",
        "    for individual in population:\n",
        "        fitness_score = fitness(individual)\n",
        "        graded_population.append((fitness_score, individual))\n",
        "    graded_population.sort()\n",
        "    return graded_population\n",
        "\n",
        "def select_parents(graded_population, elitism_size):\n",
        "    parents = [individual for _, individual in graded_population[:elitism_size]]\n",
        "    for i in range(len(graded_population) - elitism_size):\n",
        "        father = tournament_selection(graded_population)\n",
        "        mother = tournament_selection(graded_population)\n",
        "        parents.append(father)\n",
        "        parents.append(mother)\n",
        "    return parents\n",
        "\n",
        "def tournament_selection(graded_population):\n",
        "    tournament_size = 3\n",
        "    tournament = random.sample(graded_population, tournament_size)\n",
        "    tournament.sort()\n",
        "    return tournament[0][1]\n",
        "\n",
        "def crossover(father, mother):\n",
        "    crossover_point = random.randint(0, len(father) - 1)\n",
        "    child = father[:crossover_point] + [city for city in mother if city not in father[:crossover_point]]\n",
        "    return child\n",
        "\n",
        "def mutate(individual):\n",
        "    mutation_point1, mutation_point2 = random.sample(range(len(individual)), 2)\n",
        "    individual[mutation_point1], individual[mutation_point2] = individual[mutation_point2], individual[mutation_point1]\n",
        "    return individual\n",
        "\n",
        "def best_individual(population):\n",
        "    graded_population = grade_population(population)\n",
        "    return graded_population[0][1]\n",
        "\n",
        "best_tour = genetic_algorithm(population_size=100, num_generations=1000, mutation_rate=0.01, elitism_size=10)\n",
        "print(\"Best tour found: \", best_tour)\n",
        "print(\"Total cost: \", fitness(best_tour))\n"
      ]
    }
  ]
}